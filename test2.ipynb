{
 "cells": [
  {
   "cell_type": "code",
   "execution_count": 1,
   "metadata": {},
   "outputs": [],
   "source": [
    "import os\n",
    "import torch\n",
    "import torch.nn as nn\n",
    "import torch.optim as optim\n",
    "import matplotlib.pyplot as plt\n",
    "from torchvision import datasets, transforms\n",
    "from torch.utils.data import DataLoader, Subset\n",
    "from sklearn.model_selection import train_test_split\n",
    "from PIL import Image\n",
    "from blitz.modules import BayesianLinear, BayesianConv2d\n",
    "from blitz.losses import kl_divergence_from_nn"
   ]
  },
  {
   "cell_type": "code",
   "execution_count": 4,
   "metadata": {},
   "outputs": [],
   "source": [
    "# Dataset Configuration\n",
    "data_dir = r\"C:\\Users\\User\\Downloads\\archive\\Dataset_BUSI_with_GT\"  # Sesuaikan path dataset Anda\n",
    "image_size = (224, 224)\n",
    "batch_size = 32\n",
    "num_classes = 3\n",
    "num_epochs = 25\n",
    "kl_weight = 0.001\n",
    "\n",
    "device = torch.device(\"cuda\" if torch.cuda.is_available() else \"cpu\")\n",
    "\n",
    "# Data Augmentation & Normalization\n",
    "train_transform = transforms.Compose([\n",
    "    transforms.Resize(image_size),\n",
    "    transforms.RandomHorizontalFlip(),\n",
    "    transforms.RandomRotation(20),\n",
    "    transforms.ColorJitter(brightness=0.2, contrast=0.2),\n",
    "    transforms.ToTensor(),\n",
    "    transforms.Normalize([0.485, 0.456, 0.406], [0.229, 0.224, 0.225])\n",
    "])\n",
    "\n",
    "val_transform = transforms.Compose([\n",
    "    transforms.Resize(image_size),\n",
    "    transforms.ToTensor(),\n",
    "    transforms.Normalize([0.485, 0.456, 0.406], [0.229, 0.224, 0.225])\n",
    "])\n",
    "\n",
    "# Custom Dataset Class\n",
    "class CustomDataset(torch.utils.data.Dataset):\n",
    "    def __init__(self, samples, transform=None):\n",
    "        self.samples = samples\n",
    "        self.transform = transform\n",
    "\n",
    "    def __getitem__(self, index):\n",
    "        path, target = self.samples[index]\n",
    "        img = Image.open(path).convert('RGB')\n",
    "        if self.transform:\n",
    "            img = self.transform(img)\n",
    "        return img, target\n",
    "\n",
    "    def __len__(self):\n",
    "        return len(self.samples)\n",
    "\n",
    "# Load Dataset & Split\n",
    "full_dataset = datasets.ImageFolder(root=data_dir)\n",
    "train_samples, val_samples = train_test_split(\n",
    "    full_dataset.samples, test_size=0.2, stratify=full_dataset.targets, random_state=42\n",
    ")\n",
    "\n",
    "train_dataset = CustomDataset(train_samples, transform=train_transform)\n",
    "val_dataset = CustomDataset(val_samples, transform=val_transform)\n",
    "\n",
    "train_loader = DataLoader(train_dataset, batch_size=batch_size, shuffle=True)\n",
    "val_loader = DataLoader(val_dataset, batch_size=batch_size, shuffle=False)\n",
    "\n",
    "# Dynamic Feature Map Calculation\n",
    "def get_feature_map_size(model, input_size=(3, 224, 224)):\n",
    "    with torch.no_grad():\n",
    "        dummy_input = torch.randn(1, *input_size)\n",
    "        dummy_output = model.features(dummy_input)\n",
    "        return dummy_output.shape[1:]  # (C, H, W)\n"
   ]
  },
  {
   "cell_type": "code",
   "execution_count": 5,
   "metadata": {},
   "outputs": [
    {
     "name": "stdout",
     "output_type": "stream",
     "text": [
      "Number of training samples: 1262\n",
      "Number of validation samples: 316\n"
     ]
    }
   ],
   "source": [
    "print(f'Number of training samples: {len(train_dataset)}')\n",
    "print(f'Number of validation samples: {len(val_dataset)}')"
   ]
  },
  {
   "cell_type": "code",
   "execution_count": 6,
   "metadata": {},
   "outputs": [],
   "source": [
    "# Bayesian AlexNet\n",
    "class BayesianAlexNet(nn.Module):\n",
    "    def __init__(self):\n",
    "        super().__init__()\n",
    "        self.features = nn.Sequential(\n",
    "            nn.Conv2d(3, 96, kernel_size=11, stride=4, padding=2), nn.ReLU(),\n",
    "            nn.LocalResponseNorm(size=5, alpha=0.0001, beta=0.75, k=2),\n",
    "            nn.MaxPool2d(kernel_size=3, stride=2),\n",
    "\n",
    "            nn.Conv2d(96, 256, kernel_size=5, padding=2), nn.ReLU(),\n",
    "            nn.LocalResponseNorm(size=5, alpha=0.0001, beta=0.75, k=2),\n",
    "            nn.MaxPool2d(kernel_size=3, stride=2),\n",
    "\n",
    "            nn.Conv2d(256, 384, kernel_size=3, padding=1), nn.ReLU(),\n",
    "            nn.Conv2d(384, 384, kernel_size=3, padding=1), nn.ReLU(),\n",
    "            nn.Conv2d(384, 256, kernel_size=3, padding=1), nn.ReLU(),\n",
    "            nn.MaxPool2d(kernel_size=3, stride=2),\n",
    "        )\n",
    "        feature_map_size = get_feature_map_size(self)\n",
    "        self.classifier = nn.Sequential(\n",
    "            nn.Flatten(),\n",
    "            BayesianLinear(feature_map_size[0] * feature_map_size[1] * feature_map_size[2], 4096), nn.ReLU(),\n",
    "            nn.Dropout(0.5), BayesianLinear(4096, 4096), nn.ReLU(),\n",
    "            nn.Dropout(0.5), BayesianLinear(4096, num_classes)\n",
    "        )\n",
    "    def forward(self, x):\n",
    "        x = self.features(x)\n",
    "        return self.classifier(x)\n",
    "\n",
    "# Standard AlexNet (Non-Bayesian)\n",
    "class StandardAlexNet(nn.Module):\n",
    "    def __init__(self):\n",
    "        super().__init__()\n",
    "        self.features = BayesianAlexNet().features  # Sama dengan model Bayesian\n",
    "        feature_map_size = get_feature_map_size(self)\n",
    "        self.classifier = nn.Sequential(\n",
    "            nn.Flatten(),\n",
    "            nn.Linear(feature_map_size[0] * feature_map_size[1] * feature_map_size[2], 4096), nn.ReLU(),\n",
    "            nn.Linear(4096, 4096), nn.ReLU(),\n",
    "            nn.Linear(4096, num_classes)\n",
    "        )\n",
    "    def forward(self, x):\n",
    "        x = self.features(x)\n",
    "        return self.classifier(x)"
   ]
  },
  {
   "cell_type": "code",
   "execution_count": 7,
   "metadata": {},
   "outputs": [],
   "source": [
    "# Initialize Models\n",
    "bayesian_model = BayesianAlexNet().to(device)\n",
    "standard_model = StandardAlexNet().to(device)\n",
    "\n",
    "# Loss & Optimizer\n",
    "criterion = nn.CrossEntropyLoss()\n",
    "optimizer_bayesian = optim.Adam(bayesian_model.parameters(), lr=0.001)\n",
    "optimizer_standard = optim.Adam(standard_model.parameters(), lr=0.001)\n"
   ]
  },
  {
   "cell_type": "code",
   "execution_count": 8,
   "metadata": {},
   "outputs": [
    {
     "name": "stdout",
     "output_type": "stream",
     "text": [
      "Epoch 1: Bayesian Acc: 41.68%, Standard Acc: 50.08%\n",
      "Epoch 2: Bayesian Acc: 49.21%, Standard Acc: 60.86%\n",
      "Epoch 3: Bayesian Acc: 51.19%, Standard Acc: 58.95%\n",
      "Epoch 4: Bayesian Acc: 55.47%, Standard Acc: 66.16%\n",
      "Epoch 5: Bayesian Acc: 54.99%, Standard Acc: 64.03%\n",
      "Epoch 6: Bayesian Acc: 58.87%, Standard Acc: 66.09%\n",
      "Epoch 7: Bayesian Acc: 60.22%, Standard Acc: 67.04%\n",
      "Epoch 8: Bayesian Acc: 61.65%, Standard Acc: 66.72%\n",
      "Epoch 9: Bayesian Acc: 64.10%, Standard Acc: 65.61%\n",
      "Epoch 10: Bayesian Acc: 62.68%, Standard Acc: 65.45%\n",
      "Epoch 11: Bayesian Acc: 64.82%, Standard Acc: 69.57%\n",
      "Epoch 12: Bayesian Acc: 64.50%, Standard Acc: 70.52%\n",
      "Epoch 13: Bayesian Acc: 65.37%, Standard Acc: 69.81%\n",
      "Epoch 14: Bayesian Acc: 66.16%, Standard Acc: 71.79%\n",
      "Epoch 15: Bayesian Acc: 66.80%, Standard Acc: 71.63%\n",
      "Epoch 16: Bayesian Acc: 66.48%, Standard Acc: 73.45%\n",
      "Epoch 17: Bayesian Acc: 68.23%, Standard Acc: 74.25%\n",
      "Epoch 18: Bayesian Acc: 66.72%, Standard Acc: 75.04%\n",
      "Epoch 19: Bayesian Acc: 66.88%, Standard Acc: 75.28%\n",
      "Epoch 20: Bayesian Acc: 67.91%, Standard Acc: 74.25%\n",
      "Epoch 21: Bayesian Acc: 70.36%, Standard Acc: 76.86%\n",
      "Epoch 22: Bayesian Acc: 67.91%, Standard Acc: 77.97%\n",
      "Epoch 23: Bayesian Acc: 72.58%, Standard Acc: 77.50%\n",
      "Epoch 24: Bayesian Acc: 71.79%, Standard Acc: 79.87%\n",
      "Epoch 25: Bayesian Acc: 72.98%, Standard Acc: 77.81%\n"
     ]
    }
   ],
   "source": [
    "# Training & Evaluation Functions\n",
    "\n",
    "def train_model(model, optimizer, is_bayesian=False):\n",
    "    model.train()\n",
    "    running_loss, correct, total = 0.0, 0, 0\n",
    "    for inputs, labels in train_loader:\n",
    "        inputs, labels = inputs.to(device), labels.to(device)\n",
    "        optimizer.zero_grad()\n",
    "        outputs = model(inputs)\n",
    "        loss = criterion(outputs, labels)\n",
    "        if is_bayesian:\n",
    "            loss += kl_weight * kl_divergence_from_nn(model)\n",
    "        loss.backward()\n",
    "        optimizer.step()\n",
    "        running_loss += loss.item()\n",
    "        correct += outputs.argmax(dim=1).eq(labels).sum().item()\n",
    "        total += labels.size(0)\n",
    "    return running_loss/len(train_loader), 100. * correct / total\n",
    "\n",
    "# Training Loop\n",
    "for epoch in range(num_epochs):\n",
    "    train_loss_b, train_acc_b = train_model(bayesian_model, optimizer_bayesian, True)\n",
    "    train_loss_s, train_acc_s = train_model(standard_model, optimizer_standard, False)\n",
    "    print(f\"Epoch {epoch+1}: Bayesian Acc: {train_acc_b:.2f}%, Standard Acc: {train_acc_s:.2f}%\")\n"
   ]
  },
  {
   "cell_type": "code",
   "execution_count": 9,
   "metadata": {},
   "outputs": [
    {
     "data": {
      "image/png": "[encoded data removed]",
      "text/plain": [
       "<Figure size 640x480 with 1 Axes>"
      ]
     },
     "metadata": {},
     "output_type": "display_data"
    }
   ],
   "source": [
    "# Visualisasi Hasil Akhir\n",
    "def plot_results(bayesian_acc, standard_acc):\n",
    "    plt.bar(['Bayesian', 'Standard'], [bayesian_acc, standard_acc])\n",
    "    plt.ylabel(\"Accuracy (%)\")\n",
    "    plt.title(\"Final Model Accuracy\")\n",
    "    plt.show()\n",
    "\n",
    "plot_results(train_acc_b, train_acc_s)\n"
   ]
  }
 ],
 "metadata": {
  "kernelspec": {
   "display_name": "Python 3",
   "language": "python",
   "name": "python3"
  },
  "language_info": {
   "codemirror_mode": {
    "name": "ipython",
    "version": 3
   },
   "file_extension": ".py",
   "mimetype": "text/x-python",
   "name": "python",
   "nbconvert_exporter": "python",
   "pygments_lexer": "ipython3",
   "version": "3.9.13"
  }
 },
 "nbformat": 4,
 "nbformat_minor": 2
}
